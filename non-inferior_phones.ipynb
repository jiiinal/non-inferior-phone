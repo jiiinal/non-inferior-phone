{
  "metadata": {
    "kernelspec": {
      "name": "python",
      "display_name": "Python (Pyodide)",
      "language": "python"
    },
    "language_info": {
      "codemirror_mode": {
        "name": "python",
        "version": 3
      },
      "file_extension": ".py",
      "mimetype": "text/x-python",
      "name": "python",
      "nbconvert_exporter": "python",
      "pygments_lexer": "ipython3",
      "version": "3.8"
    }
  },
  "nbformat_minor": 5,
  "nbformat": 4,
  "cells": [
    {
      "cell_type": "code",
      "source": "import pandas as pd\n\n'''\nclass phone with parameteres: \n    name: string\n    processor speed: int\n    price: int \n    ram: int\n    inferior: bool\n# inferior is check while comparing two phones if it's inferior or not\n'''\nclass Phone:\n    def __init__(self, name, speed, price, ram):\n        self.name = name\n        self.speed = speed\n        self.price = price\n        self.ram = ram\n        self.inferior = False",
      "metadata": {
        "trusted": true
      },
      "execution_count": 2,
      "outputs": [],
      "id": "035eb242-f345-4959-bbb2-61e3dbe50614"
    },
    {
      "cell_type": "code",
      "source": "'''\nfunction to read data from csv using pandas `read_csv` function\n'''\ndef read_phones_from_csv(filename):\n    # initialized list `phones`, which will store list of phone object\n    phones = []\n    \n    with open(filename, 'r') as csv_file:\n        # phones_data: DataFrame of Phone's csv data\n        phones_data = pd.read_csv(csv_file)\n        '''\n        sample `phones_data`:\n          name    speed   price   ram\n        0 iphone  3       40      8\n        1 oneplus 4       30      16\n        2 samsung 5       40      12\n        3 jio     2       40      1\n        '''\n        for row in range(0,len(phones_data)):\n            phone=Phone(phones_data['name'][row],\n                        int(phones_data['speed'][row]), \n                        int(phones_data['price'][row]), \n                        int(phones_data['ram'][row])\n                        )\n            phones.append(phone)\n    return phones",
      "metadata": {
        "trusted": true
      },
      "execution_count": 3,
      "outputs": [],
      "id": "6da5690f-b285-4695-8b1a-5839da144cf8"
    },
    {
      "cell_type": "code",
      "source": "'''\nfunction to update `inferior` parameter as per the conditions\n'''\ndef find_non_inferior_phones(phones):\n    for i in range(len(phones)):\n        for j in range(len(phones)):\n            if i == j:\n                continue\n            \n            # if all paramaters are same  then continue\n            \n            if (\n                phones[j].speed == phones[i].speed\n                and phones[j].price == phones[i].price\n                and phones[j].ram == phones[i].ram\n            ):\n                continue\n            \n            # if speed is low or equal, price is high or equal, ram is low or equal of `ith phone` then it is inferior\n            \n            elif (\n                phones[i].speed <= phones[j].speed\n                and phones[i].price >= phones[j].price\n                and phones[i].ram <= phones[j].ram\n            ):\n                phones[i].inferior = True\n\n            # if speed is low or equal, price is high or equal, ram is low or equal of `jth phone` then it is inferior\n            \n            elif (\n                phones[j].speed <= phones[i].speed\n                and phones[j].price >= phones[i].price\n                and phones[j].ram <= phones[i].ram\n            ):\n                phones[j].inferior = True",
      "metadata": {
        "trusted": true
      },
      "execution_count": 4,
      "outputs": [],
      "id": "f5443c15-d9b4-43b2-9d57-56c297ac5f48"
    },
    {
      "cell_type": "code",
      "source": "if __name__ == \"__main__\":\n    # 'phones.csv' will have the data columns: name, speed, price, ram\n    filename = 'phones.csv'\n    \n    # function call to get list of phone object\n    phones = read_phones_from_csv(filename)\n    \n    # fucntion call to compare all phone's data\n    find_non_inferior_phones(phones)\n\n    print(\"Non-Inferior Phones:\")\n    \n    # printing non-inferior phone's details\n    for phone in phones:\n        if not phone.inferior:\n            print(f\"Name: {phone.name}, Speed: {phone.speed}, Price: {phone.price}, RAM: {phone.ram}\")",
      "metadata": {
        "trusted": true
      },
      "execution_count": 5,
      "outputs": [
        {
          "name": "stdout",
          "text": "Non-Inferior Phones:\nName: oneplus, Speed: 4, Price: 30, RAM: 16\nName: samsung, Speed: 5, Price: 40, RAM: 12\nName: test-phone2, Speed: 4, Price: 30, RAM: 16\n",
          "output_type": "stream"
        }
      ],
      "id": "da87bd80-9433-475e-a53b-9ed3f7b6f5ac"
    }
  ]
}